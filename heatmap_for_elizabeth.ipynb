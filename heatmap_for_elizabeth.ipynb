{
 "cells": [
  {
   "cell_type": "markdown",
   "metadata": {},
   "source": [
    "## Making a detection efficiency heatmap"
   ]
  },
  {
   "cell_type": "markdown",
   "metadata": {},
   "source": [
    "This notebook allows you to import lists of fit periods and radii and true periods and radii for simulated planets and create a detection efficienty heatmap."
   ]
  },
  {
   "cell_type": "code",
   "execution_count": 1,
   "metadata": {},
   "outputs": [],
   "source": [
    "import numpy as np\n",
    "import matplotlib\n",
    "import matplotlib.pyplot as plt\n",
    "\n",
    "from tqdm import tqdm\n",
    "\n",
    "plt.rcParams['figure.dpi'] = 150"
   ]
  },
  {
   "cell_type": "code",
   "execution_count": 17,
   "metadata": {},
   "outputs": [],
   "source": [
    "import pandas as pd\n",
    "import numpy as np\n",
    "import matplotlib.pyplot as plt\n",
    "df = pd.read_pickle(\"found_data.pkl\")\n",
    "df_true = pd.read_pickle(\"true_data.pkl\")\n",
    "\n",
    "df_true[\"Exo_Detection\"] = np.nan\n",
    "df_true[\"Found_Period\"] = np.nan\n",
    "df_true[\"Period_Error\"] = np.nan\n",
    "df_true[\"Found_Amp\"] = np.nan\n",
    "df_true[\"Amp_Error\"] = np.nan\n",
    "\n",
    "for index, row in df_true.iterrows():\n",
    "    star = df_true.iloc[index]['Star']\n",
    "    period = df_true.iloc[index]['True_Period']\n",
    "    exostriker = df.loc[df['Star'] == star]\n",
    "    for i in range(0, len(exostriker)):\n",
    "        found_per = exostriker.iloc[i]['Found_Period']\n",
    "        if found_per < period*1.05 and found_per > period*0.95:\n",
    "            df_true.at[index, \"Exo_Detection\"] = 1 #found\n",
    "            df_true.at[index, \"Found_Period\"] = exostriker.iloc[i]['Found_Period']\n",
    "            df_true.at[index, \"Period_Error\"] = exostriker.iloc[i]['Period_Error']\n",
    "            df_true.at[index, \"Found_Amp\"] = exostriker.iloc[i]['Found_Amp']\n",
    "            df_true.at[index, \"Amp_Error\"] = exostriker.iloc[i]['Amp_Error']\n",
    "df_true = df_true[df_true['Total_Planet'] <= 4]"
   ]
  },
  {
   "cell_type": "code",
   "execution_count": 18,
   "metadata": {},
   "outputs": [],
   "source": [
    "# Creating some fake data\n",
    "# To run this code, you need to have 4 arrays: \n",
    "# One with the \"true\" periods, one with the \"true\" radii, one with \"fit\" periods and one with \"fit\" radii\n",
    "\n",
    "nplanets = len(df_true)\n",
    "#nwrong = 100\n",
    "\n",
    "# I'm picking 100 random planets to have wrong fit periods and radii\n",
    "#unrec_indices = range(nwrong)\n",
    "\n",
    "#true_periods = np.random.uniform(low=0.0, high=300.0, size=nplanets)\n",
    "true_periods = list(df_true['True_Period'])\n",
    "fit_periods = list(df_true['Found_Period'])\n",
    "#wrong_periods = true_periods[unrec_indices] + np.random.uniform(low=20.0, high=50.0, size=len(unrec_indices))\n",
    "#fit_periods = np.concatenate((wrong_periods, true_periods[nwrong:]))\n",
    "\n",
    "#true_rprs = np.random.uniform(low=0.05, high=0.85, size=nplanets)\n",
    "true_rprs = list(df_true['Planet_Mass'])\n",
    "#fit_rprs = true_rprs\n",
    "#wrong_rprs = true_rprs[unrec_indices] + np.random.uniform(low=20.0, high=50.0, size=len(unrec_indices))\n",
    "#fit_rprs = np.concatenate((wrong_rprs, true_rprs[nwrong:]))\n"
   ]
  },
  {
   "cell_type": "code",
   "execution_count": 19,
   "metadata": {},
   "outputs": [],
   "source": [
    "# true_periods = [5, 5]\n",
    "# true_rprs = [0.5, 0.5]\n",
    "\n",
    "# fit_periods = [5, 25]\n",
    "# fit_rprs = [0.5, 0.9]\n"
   ]
  },
  {
   "cell_type": "code",
   "execution_count": 20,
   "metadata": {},
   "outputs": [],
   "source": [
    "def heatmap_bins(period_min, period_max, nperbins, rprs_min, rprs_max, nradbins, logper=True, base='10'):\n",
    "    \"\"\"\n",
    "    Gets bin edges for detection efficiency heatmap.\n",
    "    \n",
    "    Parameters\n",
    "    ----------\n",
    "    period_min: float\n",
    "        Minimum period in sample\n",
    "    period_max: float\n",
    "        Maximum period in sample\n",
    "    nperbins: int\n",
    "        Number of period bins in heatmap\n",
    "    rprs_min: float\n",
    "        Minimum Rp/Rs in sample (or radius)\n",
    "    rprs_max: float\n",
    "        Maximum Rp/Rs in sample (or radius)\n",
    "    nradbins: int\n",
    "        Number of radius bins in heatmap\n",
    "    logper: boolean, default True\n",
    "        Log x (period)-axis?\n",
    "\n",
    "    Returns\n",
    "    -------\n",
    "    per_segments: np.array\n",
    "        Array of x-axis (period) bin edges\n",
    "    rprs_segments: np.array\n",
    "        Array of y-axis (radius) bin edges\n",
    "    \n",
    "    \"\"\"\n",
    "    if logper==True:\n",
    "\n",
    "        if base=='10':\n",
    "            \n",
    "            natural_val = np.linspace(period_min, np.log10(period_max), num=nperbins, endpoint=True).round(decimals=2)\n",
    "            per_segments = np.array([10**x for x in natural_val]).round(decimals=2)\n",
    "        \n",
    "        elif base=='e':\n",
    "\n",
    "            natural_val = np.linspace(period_min, np.log(period_max), num=nperbins, endpoint=True).round(decimals=2)\n",
    "            per_segments = np.array([np.e**x for x in natural_val]).round(decimals=2)\n",
    "        \n",
    "        else:\n",
    "            \n",
    "            print('Base not supported')\n",
    "            return\n",
    "        \n",
    "    elif logper==False:\n",
    "        \n",
    "        per_segments = np.linspace(period_min, period_max, num=nperbins, endpoint=True).round(decimals=2)\n",
    "    #if logper==True:\n",
    "     #   natural_val = np.linspace(period_min, np.log10(period_max), num=nperbins, endpoint=True).round(decimals=2)\n",
    "      #  per_segments = np.array([10**x for x in natural_val]).round(decimals=2)\n",
    "\n",
    "        \n",
    "    #if logper==False:\n",
    "     #   per_segments = np.linspace(period_min, period_max, num=nperbins, endpoint=True).round(decimals=2)\n",
    "\n",
    "    \n",
    "    rprs_segments = np.linspace(rprs_min, rprs_max, num=nradbins).round(decimals=2)\n",
    "    \n",
    "    return per_segments, rprs_segments\n"
   ]
  },
  {
   "cell_type": "code",
   "execution_count": 21,
   "metadata": {},
   "outputs": [],
   "source": [
    "# Getting bin edges\n",
    "per_segments, rprs_segments = heatmap_bins(0.0, max(true_periods), 8, 0.0, max(true_rprs), 9, logper=True)"
   ]
  },
  {
   "cell_type": "code",
   "execution_count": 22,
   "metadata": {},
   "outputs": [],
   "source": [
    "def is_recovered(period, fitper, rprs, per_segments, rprs_segments):#true (injected) period, L-M fitting period, true rp/rs, L-M fitting rp/rs\n",
    "    \n",
    "    \"\"\"\n",
    "    Determines whether a planet is recovered.\n",
    "    \n",
    "    ** Note **\n",
    "    The first if-statement can be changed to reflect the conditions for planet recovery.\n",
    "    \n",
    "    ** Note **\n",
    "    r_list, recovered_period, and recovered_rprs must be defined outside of this function (see cell below)\n",
    "    \n",
    "    \n",
    "    Parameters\n",
    "    ----------\n",
    "    period: float\n",
    "        True (known) period of simulated planet\n",
    "    fitper: float\n",
    "        Fit (recovered) period of simulated planet\n",
    "    rprs: float\n",
    "        True (known) Rp/Rs of simulated planet\n",
    "    fitrprs: float\n",
    "        Fit (recovered) Rp/Rs of simulated planet\n",
    "    per_segments: np.array\n",
    "        Period bin edges\n",
    "    rprs_segments: np.array\n",
    "        Radius bin edges\n",
    "        \n",
    "    Returns\n",
    "    -------\n",
    "    None\n",
    "    \n",
    "    \n",
    "    \"\"\"\n",
    "    #for i in range(0,len(df_true)):\n",
    "     #   if df_true.iloc[i]['Exo_Detection'] == 1.0:\n",
    "    if abs(fitper-period) < .05*period:\n",
    "    #You can define your own definition of \"recovered\" here.\n",
    "    \n",
    "            recovered = True\n",
    "        \n",
    "            recovered_period.append(period)\n",
    "            recovered_rprs.append(rprs)\n",
    "        \n",
    "            for p_i in range(len(per_segments)-1):\n",
    "                for r_i in range(len(rprs_segments)-1):\n",
    "                    if per_segments[p_i] < period < per_segments[p_i+1]:\n",
    "                        if rprs_segments[r_i] < rprs < rprs_segments[r_i+1]:\n",
    "                            r_list[r_i][p_i] += 1\n",
    "                        \n",
    "    else:\n",
    "        \n",
    "            recovered = False\n"
   ]
  },
  {
   "cell_type": "code",
   "execution_count": 23,
   "metadata": {},
   "outputs": [
    {
     "name": "stderr",
     "output_type": "stream",
     "text": [
      "100%|██████████| 1364/1364 [00:00<00:00, 32162.30it/s]\n"
     ]
    }
   ],
   "source": [
    "# Define lists to save for heatmap\n",
    "r_list = np.zeros((len(per_segments), len(rprs_segments)))\n",
    "recovered_period = []\n",
    "recovered_rprs = []\n",
    "\n",
    "\n",
    "for i in tqdm(range(nplanets)):\n",
    "    is_recovered(true_periods[i], fit_periods[i], true_rprs[i], per_segments, rprs_segments)"
   ]
  },
  {
   "cell_type": "code",
   "execution_count": 24,
   "metadata": {},
   "outputs": [],
   "source": [
    "def plot(recovered_period, recovered_rprs, true_periods, true_rprs, filename='heatmap.png', xlog=True):\n",
    "    \n",
    "    \"\"\"\n",
    "    Plots + saves detection efficiency heatmap\n",
    "    \n",
    "    Parameters\n",
    "    ----------\n",
    "    recovered_period: np.array\n",
    "        Array of \"fit\" periods\n",
    "    recovered_rprs: np.array\n",
    "        Array of \"fit\" radii\n",
    "    true_periods: np.array\n",
    "        Array of true (simulated) periods\n",
    "    true_rprs: np.array\n",
    "        Array of true (simulated) radii\n",
    "    filename: str, default 'heatmap.png'\n",
    "        Directory + filename to save heatmap\n",
    "    xlog: boolean, default True\n",
    "        Log x-axis? Must match logper argument in heatmap_bins()\n",
    "        \n",
    "    Returns\n",
    "    -------\n",
    "    fig: matplotlib.figure.Figure object\n",
    "        Heatmap\n",
    "    \n",
    "    \"\"\"\n",
    "    \n",
    "    counts, _, _ = np.histogram2d(recovered_period, recovered_rprs, bins=(per_segments, rprs_segments))\n",
    "    counts_tot, _, _ = np.histogram2d(true_periods, true_rprs, bins=(per_segments, rprs_segments))\n",
    "\n",
    "    for i in range(len(counts.T)):\n",
    "        for j in range(len(counts.T[i])):\n",
    "            counts.T[i][j] = counts.T[i][j]/counts_tot.T[i][j]\n",
    "            if np.isnan(counts.T[i][j]):\n",
    "                counts.T[i][j] = 0\n",
    "\n",
    "    matplotlib.rcParams['xtick.minor.size'] = 0\n",
    "    matplotlib.rcParams['xtick.minor.width'] = 0\n",
    "\n",
    "    fig, ax = plt.subplots()\n",
    "    heatmap = ax.pcolormesh(per_segments, rprs_segments, counts.T, cmap='Blues_r')\n",
    "    \n",
    "    if xlog==True:\n",
    "        ax.set_xscale('log') #('log', basex=np.e)\n",
    "\n",
    "    ax.xaxis.set_ticks(per_segments)\n",
    "    ax.xaxis.set_ticklabels(per_segments, fontsize=5, rotation='vertical')\n",
    "\n",
    "    ax.yaxis.set_ticks(rprs_segments)\n",
    "    ax.yaxis.set_ticklabels(rprs_segments)\n",
    "\n",
    "    ax.set_title('Fraction of Planets Recovered in Systems with > 4 Planets')\n",
    "    ax.set_xlabel('Period (days)')\n",
    "    ax.set_ylabel('Mass (earth masses)')\n",
    "\n",
    "\n",
    "    cbar = plt.colorbar(heatmap)\n",
    "    heatmap.set_clim(0.0, 1.0)\n",
    "    cbar.set_label('Fraction recovered', rotation=270, labelpad=10)\n",
    "\n",
    "\n",
    "    plt.savefig(filename)\n",
    "    plt.show()\n",
    "    \n",
    "    return fig\n"
   ]
  },
  {
   "cell_type": "code",
   "execution_count": 25,
   "metadata": {
    "scrolled": true
   },
   "outputs": [
    {
     "name": "stderr",
     "output_type": "stream",
     "text": [
      "<ipython-input-24-e5884f6574d6>:33: RuntimeWarning: invalid value encountered in double_scalars\n",
      "  counts.T[i][j] = counts.T[i][j]/counts_tot.T[i][j]\n"
     ]
    },
    {
     "data": {
      "image/png": "[encoded data removed]",
      "text/plain": [
       "<Figure size 900x600 with 2 Axes>"
      ]
     },
     "metadata": {
      "needs_background": "light"
     },
     "output_type": "display_data"
    }
   ],
   "source": [
    "heatmap = plot(recovered_period, recovered_rprs, true_periods, true_rprs, xlog=True)"
   ]
  },
  {
   "cell_type": "code",
   "execution_count": 19,
   "metadata": {},
   "outputs": [
    {
     "name": "stdout",
     "output_type": "stream",
     "text": [
      "[  1.     2.14   4.57   9.77  20.42  43.65  93.33 199.53]\n"
     ]
    }
   ],
   "source": [
    "print(per_segments)"
   ]
  },
  {
   "cell_type": "code",
   "execution_count": null,
   "metadata": {},
   "outputs": [],
   "source": []
  }
 ],
 "metadata": {
  "kernelspec": {
   "display_name": "Python 3",
   "language": "python",
   "name": "python3"
  },
  "language_info": {
   "codemirror_mode": {
    "name": "ipython",
    "version": 3
   },
   "file_extension": ".py",
   "mimetype": "text/x-python",
   "name": "python",
   "nbconvert_exporter": "python",
   "pygments_lexer": "ipython3",
   "version": "3.8.5"
  }
 },
 "nbformat": 4,
 "nbformat_minor": 4
}
